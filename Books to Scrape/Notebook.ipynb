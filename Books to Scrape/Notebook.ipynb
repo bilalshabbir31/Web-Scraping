{
 "cells": [
  {
   "cell_type": "code",
   "execution_count": 1,
   "id": "93db2eff",
   "metadata": {},
   "outputs": [],
   "source": [
    "import pandas as pd\n",
    "from bs4 import BeautifulSoup\n",
    "import requests\n",
    "import re"
   ]
  },
  {
   "cell_type": "code",
   "execution_count": 2,
   "id": "223cd2cc",
   "metadata": {},
   "outputs": [],
   "source": [
    "request=requests.get(\"http://books.toscrape.com/\")"
   ]
  },
  {
   "cell_type": "code",
   "execution_count": 3,
   "id": "d7f59a95",
   "metadata": {},
   "outputs": [],
   "source": [
    "soup=BeautifulSoup(request.text,'html.parser')"
   ]
  },
  {
   "cell_type": "markdown",
   "id": "631897b6",
   "metadata": {},
   "source": [
    "## Title of Website"
   ]
  },
  {
   "cell_type": "code",
   "execution_count": 4,
   "id": "fb6e9358",
   "metadata": {},
   "outputs": [
    {
     "data": {
      "text/plain": [
       "'All products  Books to Scrape  Sandbox'"
      ]
     },
     "execution_count": 4,
     "metadata": {},
     "output_type": "execute_result"
    }
   ],
   "source": [
    "\n",
    "title=re.sub('[\\n|-]','',soup.title.text).lstrip()\n",
    "title"
   ]
  },
  {
   "cell_type": "code",
   "execution_count": 5,
   "id": "0488034d",
   "metadata": {},
   "outputs": [],
   "source": [
    "## Creating f(x) which convert str rating to the integer\n",
    "def rating_str_to_num_conversion(rating_txt):\n",
    "    rating_list=list()\n",
    "    for r in rating_txt:\n",
    "        if r=='One':\n",
    "            rating_list.append(1)\n",
    "        elif r=='Two':\n",
    "            rating_list.append(2)\n",
    "        elif r=='Three':\n",
    "            rating_list.append(3)\n",
    "        elif r=='Four':\n",
    "            rating_list.append(4)\n",
    "        elif r=='Five':\n",
    "            rating_list.append(5)\n",
    "            \n",
    "    return rating_list"
   ]
  },
  {
   "cell_type": "code",
   "execution_count": 6,
   "id": "6eb910dc",
   "metadata": {},
   "outputs": [],
   "source": [
    "## geting all rating of the one page\n",
    "def get_rating_list(soup,rating_arr):\n",
    "    a=soup.find_all('p',class_='star-rating')\n",
    "    rating_txt=re.findall('Three|One|Four|Two|Five',str(a))\n",
    "    rating_list=rating_str_to_num_conversion(rating_txt)\n",
    "    for i in rating_list:\n",
    "        rating_arr.append(i)\n",
    "    return rating_arr"
   ]
  },
  {
   "cell_type": "code",
   "execution_count": 7,
   "id": "e57a1eb2",
   "metadata": {},
   "outputs": [],
   "source": [
    "## geting all book names of the one page\n",
    "def get_books_name(soup,book_name_arr):\n",
    "    a=soup.find_all('h3')\n",
    "    books_titles=[i.text for i in a]\n",
    "    for i in books_titles:\n",
    "        book_name_arr.append(i)\n",
    "    return book_name_arr"
   ]
  },
  {
   "cell_type": "code",
   "execution_count": 8,
   "id": "033d83b3",
   "metadata": {},
   "outputs": [],
   "source": [
    "## geting all book prices of the one page\n",
    "def get_book_prices(soup,book_arr):\n",
    "    l=soup.find_all('p',attrs={'class':'price_color'})\n",
    "    books_prices=[i.text for i in l]\n",
    "    for i in books_prices:\n",
    "        book_arr.append(i)\n",
    "    return book_arr"
   ]
  },
  {
   "cell_type": "code",
   "execution_count": 9,
   "id": "1f8c033f",
   "metadata": {},
   "outputs": [],
   "source": [
    "## geting all whether book is available or not of the one page\n",
    "def check_book_availability(soup,books_arr):\n",
    "    z=soup.find_all('p',class_='instock availability')\n",
    "    books_data=[re.sub('[\\n]','',i.text.strip()) for i in z]\n",
    "    for i in books_data:\n",
    "        books_arr.append(i)\n",
    "    return books_arr"
   ]
  },
  {
   "cell_type": "code",
   "execution_count": 10,
   "id": "2520c7b4",
   "metadata": {},
   "outputs": [],
   "source": [
    "url='http://books.toscrape.com/catalogue'\n",
    "rating_list=list()\n",
    "book_list=list()\n",
    "book_prices_list=list()\n",
    "book_availability_list=list()\n",
    "for page in range(1,50):\n",
    "    \n",
    "    request=requests.get(url+'/page-'+str(page)+'.html')\n",
    "    soup=BeautifulSoup(request.text,'html.parser')\n",
    "    rating_list=get_rating_list(soup,rating_list)\n",
    "    book_list=get_books_name(soup,book_list)\n",
    "    book_prices_list=get_book_prices(soup,book_prices_list)\n",
    "    book_availability_list=check_book_availability(soup,book_availability_list)"
   ]
  },
  {
   "cell_type": "markdown",
   "id": "e3ca03f7",
   "metadata": {},
   "source": [
    "## Creating the DataFrame"
   ]
  },
  {
   "cell_type": "code",
   "execution_count": 11,
   "id": "630105b1",
   "metadata": {},
   "outputs": [
    {
     "data": {
      "text/html": [
       "<div>\n",
       "<style scoped>\n",
       "    .dataframe tbody tr th:only-of-type {\n",
       "        vertical-align: middle;\n",
       "    }\n",
       "\n",
       "    .dataframe tbody tr th {\n",
       "        vertical-align: top;\n",
       "    }\n",
       "\n",
       "    .dataframe thead th {\n",
       "        text-align: right;\n",
       "    }\n",
       "</style>\n",
       "<table border=\"1\" class=\"dataframe\">\n",
       "  <thead>\n",
       "    <tr style=\"text-align: right;\">\n",
       "      <th></th>\n",
       "      <th>Books_Name</th>\n",
       "      <th>Books_Price</th>\n",
       "      <th>Rating</th>\n",
       "      <th>Availability_Stock</th>\n",
       "    </tr>\n",
       "  </thead>\n",
       "  <tbody>\n",
       "    <tr>\n",
       "      <th>0</th>\n",
       "      <td>A Light in the ...</td>\n",
       "      <td>Â£51.77</td>\n",
       "      <td>3</td>\n",
       "      <td>In stock</td>\n",
       "    </tr>\n",
       "    <tr>\n",
       "      <th>1</th>\n",
       "      <td>Tipping the Velvet</td>\n",
       "      <td>Â£53.74</td>\n",
       "      <td>1</td>\n",
       "      <td>In stock</td>\n",
       "    </tr>\n",
       "    <tr>\n",
       "      <th>2</th>\n",
       "      <td>Soumission</td>\n",
       "      <td>Â£50.10</td>\n",
       "      <td>1</td>\n",
       "      <td>In stock</td>\n",
       "    </tr>\n",
       "    <tr>\n",
       "      <th>3</th>\n",
       "      <td>Sharp Objects</td>\n",
       "      <td>Â£47.82</td>\n",
       "      <td>4</td>\n",
       "      <td>In stock</td>\n",
       "    </tr>\n",
       "    <tr>\n",
       "      <th>4</th>\n",
       "      <td>Sapiens: A Brief History ...</td>\n",
       "      <td>Â£54.23</td>\n",
       "      <td>5</td>\n",
       "      <td>In stock</td>\n",
       "    </tr>\n",
       "  </tbody>\n",
       "</table>\n",
       "</div>"
      ],
      "text/plain": [
       "                     Books_Name Books_Price  Rating Availability_Stock\n",
       "0            A Light in the ...     Â£51.77       3           In stock\n",
       "1            Tipping the Velvet     Â£53.74       1           In stock\n",
       "2                    Soumission     Â£50.10       1           In stock\n",
       "3                 Sharp Objects     Â£47.82       4           In stock\n",
       "4  Sapiens: A Brief History ...     Â£54.23       5           In stock"
      ]
     },
     "execution_count": 11,
     "metadata": {},
     "output_type": "execute_result"
    }
   ],
   "source": [
    "df=pd.DataFrame({\n",
    "    'Books_Name':book_list,\n",
    "    'Books_Price':book_prices_list,\n",
    "    'Rating':rating_list,\n",
    "    'Availability_Stock':book_availability_list\n",
    "})\n",
    "df.head()"
   ]
  },
  {
   "cell_type": "code",
   "execution_count": 12,
   "id": "a8a9b3f2",
   "metadata": {},
   "outputs": [],
   "source": [
    "df.to_csv(title+'.csv',index=False)"
   ]
  },
  {
   "cell_type": "code",
   "execution_count": 40,
   "id": "aeb9ba50",
   "metadata": {},
   "outputs": [],
   "source": [
    "df=pd.read_csv(\"All products  Books to Scrape  Sandbox.csv\")"
   ]
  },
  {
   "cell_type": "code",
   "execution_count": 41,
   "id": "8672d121",
   "metadata": {},
   "outputs": [
    {
     "name": "stdout",
     "output_type": "stream",
     "text": [
      "<class 'pandas.core.frame.DataFrame'>\n",
      "RangeIndex: 980 entries, 0 to 979\n",
      "Data columns (total 4 columns):\n",
      " #   Column              Non-Null Count  Dtype \n",
      "---  ------              --------------  ----- \n",
      " 0   Books_Name          980 non-null    object\n",
      " 1   Books_Price         980 non-null    object\n",
      " 2   Rating              980 non-null    int64 \n",
      " 3   Availability_Stock  980 non-null    object\n",
      "dtypes: int64(1), object(3)\n",
      "memory usage: 30.8+ KB\n"
     ]
    }
   ],
   "source": [
    "df.info()"
   ]
  },
  {
   "cell_type": "code",
   "execution_count": 14,
   "id": "e8b8cd11",
   "metadata": {},
   "outputs": [
    {
     "data": {
      "text/plain": [
       "0              A Light in the ...\n",
       "1              Tipping the Velvet\n",
       "2                      Soumission\n",
       "3                   Sharp Objects\n",
       "4    Sapiens: A Brief History ...\n",
       "Name: Books_Name, dtype: object"
      ]
     },
     "execution_count": 14,
     "metadata": {},
     "output_type": "execute_result"
    }
   ],
   "source": [
    "df.head()['Books_Name']"
   ]
  },
  {
   "cell_type": "markdown",
   "id": "94091807",
   "metadata": {},
   "source": [
    "## Visualizing the data"
   ]
  },
  {
   "cell_type": "markdown",
   "id": "e59d531b",
   "metadata": {},
   "source": [
    "### Matplotlib Visualization"
   ]
  },
  {
   "cell_type": "code",
   "execution_count": 15,
   "id": "5bfd0481",
   "metadata": {},
   "outputs": [],
   "source": [
    "import matplotlib.pyplot as plt"
   ]
  },
  {
   "cell_type": "code",
   "execution_count": 43,
   "id": "13fbe7df",
   "metadata": {},
   "outputs": [],
   "source": [
    "# converting book_price column into the float\n",
    "str_book_price=df['Books_Price'].str.replace('Â£','')\n",
    "df['Books_Price']=str_book_price.astype(float)"
   ]
  },
  {
   "cell_type": "code",
   "execution_count": 47,
   "id": "aace1d7e",
   "metadata": {},
   "outputs": [
    {
     "name": "stdout",
     "output_type": "stream",
     "text": [
      "<class 'pandas.core.frame.DataFrame'>\n",
      "RangeIndex: 980 entries, 0 to 979\n",
      "Data columns (total 4 columns):\n",
      " #   Column              Non-Null Count  Dtype  \n",
      "---  ------              --------------  -----  \n",
      " 0   Books_Name          980 non-null    object \n",
      " 1   Books_Price         980 non-null    float64\n",
      " 2   Rating              980 non-null    int64  \n",
      " 3   Availability_Stock  980 non-null    object \n",
      "dtypes: float64(1), int64(1), object(2)\n",
      "memory usage: 30.8+ KB\n"
     ]
    }
   ],
   "source": [
    "df.info()"
   ]
  },
  {
   "cell_type": "code",
   "execution_count": 48,
   "id": "3a544146",
   "metadata": {},
   "outputs": [
    {
     "data": {
      "text/html": [
       "<div>\n",
       "<style scoped>\n",
       "    .dataframe tbody tr th:only-of-type {\n",
       "        vertical-align: middle;\n",
       "    }\n",
       "\n",
       "    .dataframe tbody tr th {\n",
       "        vertical-align: top;\n",
       "    }\n",
       "\n",
       "    .dataframe thead th {\n",
       "        text-align: right;\n",
       "    }\n",
       "</style>\n",
       "<table border=\"1\" class=\"dataframe\">\n",
       "  <thead>\n",
       "    <tr style=\"text-align: right;\">\n",
       "      <th></th>\n",
       "      <th>Books_Name</th>\n",
       "      <th>Books_Price</th>\n",
       "      <th>Rating</th>\n",
       "      <th>Availability_Stock</th>\n",
       "    </tr>\n",
       "  </thead>\n",
       "  <tbody>\n",
       "    <tr>\n",
       "      <th>0</th>\n",
       "      <td>A Light in the ...</td>\n",
       "      <td>51.77</td>\n",
       "      <td>3</td>\n",
       "      <td>In stock</td>\n",
       "    </tr>\n",
       "    <tr>\n",
       "      <th>1</th>\n",
       "      <td>Tipping the Velvet</td>\n",
       "      <td>53.74</td>\n",
       "      <td>1</td>\n",
       "      <td>In stock</td>\n",
       "    </tr>\n",
       "    <tr>\n",
       "      <th>2</th>\n",
       "      <td>Soumission</td>\n",
       "      <td>50.10</td>\n",
       "      <td>1</td>\n",
       "      <td>In stock</td>\n",
       "    </tr>\n",
       "    <tr>\n",
       "      <th>3</th>\n",
       "      <td>Sharp Objects</td>\n",
       "      <td>47.82</td>\n",
       "      <td>4</td>\n",
       "      <td>In stock</td>\n",
       "    </tr>\n",
       "    <tr>\n",
       "      <th>4</th>\n",
       "      <td>Sapiens: A Brief History ...</td>\n",
       "      <td>54.23</td>\n",
       "      <td>5</td>\n",
       "      <td>In stock</td>\n",
       "    </tr>\n",
       "    <tr>\n",
       "      <th>...</th>\n",
       "      <td>...</td>\n",
       "      <td>...</td>\n",
       "      <td>...</td>\n",
       "      <td>...</td>\n",
       "    </tr>\n",
       "    <tr>\n",
       "      <th>975</th>\n",
       "      <td>Icing (Aces Hockey #2)</td>\n",
       "      <td>40.44</td>\n",
       "      <td>4</td>\n",
       "      <td>In stock</td>\n",
       "    </tr>\n",
       "    <tr>\n",
       "      <th>976</th>\n",
       "      <td>Hawkeye, Vol. 1: My ...</td>\n",
       "      <td>45.24</td>\n",
       "      <td>3</td>\n",
       "      <td>In stock</td>\n",
       "    </tr>\n",
       "    <tr>\n",
       "      <th>977</th>\n",
       "      <td>Having the Barbarian's Baby ...</td>\n",
       "      <td>34.96</td>\n",
       "      <td>4</td>\n",
       "      <td>In stock</td>\n",
       "    </tr>\n",
       "    <tr>\n",
       "      <th>978</th>\n",
       "      <td>Giant Days, Vol. 1 ...</td>\n",
       "      <td>56.76</td>\n",
       "      <td>4</td>\n",
       "      <td>In stock</td>\n",
       "    </tr>\n",
       "    <tr>\n",
       "      <th>979</th>\n",
       "      <td>Fruits Basket, Vol. 1 ...</td>\n",
       "      <td>40.28</td>\n",
       "      <td>5</td>\n",
       "      <td>In stock</td>\n",
       "    </tr>\n",
       "  </tbody>\n",
       "</table>\n",
       "<p>980 rows × 4 columns</p>\n",
       "</div>"
      ],
      "text/plain": [
       "                          Books_Name  Books_Price  Rating Availability_Stock\n",
       "0                 A Light in the ...        51.77       3           In stock\n",
       "1                 Tipping the Velvet        53.74       1           In stock\n",
       "2                         Soumission        50.10       1           In stock\n",
       "3                      Sharp Objects        47.82       4           In stock\n",
       "4       Sapiens: A Brief History ...        54.23       5           In stock\n",
       "..                               ...          ...     ...                ...\n",
       "975           Icing (Aces Hockey #2)        40.44       4           In stock\n",
       "976          Hawkeye, Vol. 1: My ...        45.24       3           In stock\n",
       "977  Having the Barbarian's Baby ...        34.96       4           In stock\n",
       "978           Giant Days, Vol. 1 ...        56.76       4           In stock\n",
       "979        Fruits Basket, Vol. 1 ...        40.28       5           In stock\n",
       "\n",
       "[980 rows x 4 columns]"
      ]
     },
     "execution_count": 48,
     "metadata": {},
     "output_type": "execute_result"
    }
   ],
   "source": [
    "df"
   ]
  },
  {
   "cell_type": "code",
   "execution_count": 46,
   "id": "d25caa34",
   "metadata": {},
   "outputs": [
    {
     "data": {
      "text/html": [
       "<div>\n",
       "<style scoped>\n",
       "    .dataframe tbody tr th:only-of-type {\n",
       "        vertical-align: middle;\n",
       "    }\n",
       "\n",
       "    .dataframe tbody tr th {\n",
       "        vertical-align: top;\n",
       "    }\n",
       "\n",
       "    .dataframe thead th {\n",
       "        text-align: right;\n",
       "    }\n",
       "</style>\n",
       "<table border=\"1\" class=\"dataframe\">\n",
       "  <thead>\n",
       "    <tr style=\"text-align: right;\">\n",
       "      <th></th>\n",
       "      <th>Books_Name</th>\n",
       "      <th>Books_Price</th>\n",
       "      <th>Rating</th>\n",
       "      <th>Availability_Stock</th>\n",
       "    </tr>\n",
       "  </thead>\n",
       "  <tbody>\n",
       "    <tr>\n",
       "      <th>4</th>\n",
       "      <td>Sapiens: A Brief History ...</td>\n",
       "      <td>54.23</td>\n",
       "      <td>5</td>\n",
       "      <td>In stock</td>\n",
       "    </tr>\n",
       "    <tr>\n",
       "      <th>12</th>\n",
       "      <td>Set Me Free</td>\n",
       "      <td>17.46</td>\n",
       "      <td>5</td>\n",
       "      <td>In stock</td>\n",
       "    </tr>\n",
       "    <tr>\n",
       "      <th>13</th>\n",
       "      <td>Scott Pilgrim's Precious Little ...</td>\n",
       "      <td>52.29</td>\n",
       "      <td>5</td>\n",
       "      <td>In stock</td>\n",
       "    </tr>\n",
       "    <tr>\n",
       "      <th>14</th>\n",
       "      <td>Rip it Up and ...</td>\n",
       "      <td>35.02</td>\n",
       "      <td>5</td>\n",
       "      <td>In stock</td>\n",
       "    </tr>\n",
       "    <tr>\n",
       "      <th>23</th>\n",
       "      <td>Chase Me (Paris Nights ...</td>\n",
       "      <td>25.27</td>\n",
       "      <td>5</td>\n",
       "      <td>In stock</td>\n",
       "    </tr>\n",
       "    <tr>\n",
       "      <th>24</th>\n",
       "      <td>Black Dust</td>\n",
       "      <td>34.53</td>\n",
       "      <td>5</td>\n",
       "      <td>In stock</td>\n",
       "    </tr>\n",
       "    <tr>\n",
       "      <th>28</th>\n",
       "      <td>Worlds Elsewhere: Journeys Around ...</td>\n",
       "      <td>40.30</td>\n",
       "      <td>5</td>\n",
       "      <td>In stock</td>\n",
       "    </tr>\n",
       "    <tr>\n",
       "      <th>30</th>\n",
       "      <td>The Four Agreements: A ...</td>\n",
       "      <td>17.66</td>\n",
       "      <td>5</td>\n",
       "      <td>In stock</td>\n",
       "    </tr>\n",
       "    <tr>\n",
       "      <th>32</th>\n",
       "      <td>The Elephant Tree</td>\n",
       "      <td>23.82</td>\n",
       "      <td>5</td>\n",
       "      <td>In stock</td>\n",
       "    </tr>\n",
       "    <tr>\n",
       "      <th>34</th>\n",
       "      <td>Sophie's World</td>\n",
       "      <td>15.94</td>\n",
       "      <td>5</td>\n",
       "      <td>In stock</td>\n",
       "    </tr>\n",
       "  </tbody>\n",
       "</table>\n",
       "</div>"
      ],
      "text/plain": [
       "                               Books_Name  Books_Price  Rating  \\\n",
       "4            Sapiens: A Brief History ...        54.23       5   \n",
       "12                            Set Me Free        17.46       5   \n",
       "13    Scott Pilgrim's Precious Little ...        52.29       5   \n",
       "14                      Rip it Up and ...        35.02       5   \n",
       "23             Chase Me (Paris Nights ...        25.27       5   \n",
       "24                             Black Dust        34.53       5   \n",
       "28  Worlds Elsewhere: Journeys Around ...        40.30       5   \n",
       "30             The Four Agreements: A ...        17.66       5   \n",
       "32                      The Elephant Tree        23.82       5   \n",
       "34                         Sophie's World        15.94       5   \n",
       "\n",
       "   Availability_Stock  \n",
       "4            In stock  \n",
       "12           In stock  \n",
       "13           In stock  \n",
       "14           In stock  \n",
       "23           In stock  \n",
       "24           In stock  \n",
       "28           In stock  \n",
       "30           In stock  \n",
       "32           In stock  \n",
       "34           In stock  "
      ]
     },
     "execution_count": 46,
     "metadata": {},
     "output_type": "execute_result"
    }
   ],
   "source": [
    "# top 10 largest rating\n",
    "\n",
    "top_10=df.nlargest(n=10,columns=['Rating'])\n",
    "top_10"
   ]
  },
  {
   "cell_type": "code",
   "execution_count": 59,
   "id": "41336e11",
   "metadata": {},
   "outputs": [
    {
     "data": {
      "text/plain": [
       "<matplotlib.collections.PathCollection at 0x20a0a75e700>"
      ]
     },
     "execution_count": 59,
     "metadata": {},
     "output_type": "execute_result"
    },
    {
     "data": {
      "image/png": "[encoded data removed]",
      "text/plain": [
       "<Figure size 432x288 with 1 Axes>"
      ]
     },
     "metadata": {
      "needs_background": "light"
     },
     "output_type": "display_data"
    }
   ],
   "source": [
    "plt.scatter(df['Books_Price'],df['Rating'])"
   ]
  },
  {
   "cell_type": "code",
   "execution_count": 58,
   "id": "1fc6e090",
   "metadata": {},
   "outputs": [
    {
     "data": {
      "text/plain": [
       "[<matplotlib.lines.Line2D at 0x20a0a7060d0>]"
      ]
     },
     "execution_count": 58,
     "metadata": {},
     "output_type": "execute_result"
    },
    {
     "data": {
      "image/png": "[encoded data removed]",
      "text/plain": [
       "<Figure size 432x288 with 1 Axes>"
      ]
     },
     "metadata": {
      "needs_background": "light"
     },
     "output_type": "display_data"
    }
   ],
   "source": [
    "plt.plot(top_10['Books_Name'].head(4),top_10['Books_Price'].head(4))"
   ]
  },
  {
   "cell_type": "code",
   "execution_count": 62,
   "id": "a9215f78",
   "metadata": {},
   "outputs": [
    {
     "data": {
      "image/png": "[encoded data removed]",
      "text/plain": [
       "<Figure size 432x288 with 1 Axes>"
      ]
     },
     "metadata": {
      "needs_background": "light"
     },
     "output_type": "display_data"
    }
   ],
   "source": [
    "plt.hist(df['Books_Price']);"
   ]
  },
  {
   "cell_type": "code",
   "execution_count": 64,
   "id": "6f8451ad",
   "metadata": {},
   "outputs": [
    {
     "data": {
      "image/png": "[encoded data removed]",
      "text/plain": [
       "<Figure size 432x288 with 1 Axes>"
      ]
     },
     "metadata": {
      "needs_background": "light"
     },
     "output_type": "display_data"
    }
   ],
   "source": [
    "plt.hist(df['Rating']);"
   ]
  },
  {
   "cell_type": "code",
   "execution_count": 81,
   "id": "fe2cd35a",
   "metadata": {},
   "outputs": [
    {
     "data": {
      "text/plain": [
       "1    22.551020\n",
       "3    20.204082\n",
       "2    19.795918\n",
       "5    19.489796\n",
       "4    17.959184\n",
       "Name: Rating, dtype: float64"
      ]
     },
     "execution_count": 81,
     "metadata": {},
     "output_type": "execute_result"
    }
   ],
   "source": [
    "(df['Rating'].value_counts()/980)*100"
   ]
  },
  {
   "cell_type": "code",
   "execution_count": 88,
   "id": "10c269f8",
   "metadata": {},
   "outputs": [
    {
     "data": {
      "text/plain": [
       "1    221\n",
       "2    194\n",
       "3    198\n",
       "4    176\n",
       "5    191\n",
       "Name: Rating, dtype: int64"
      ]
     },
     "execution_count": 88,
     "metadata": {},
     "output_type": "execute_result"
    }
   ],
   "source": [
    "rating_vals=df['Rating'].value_counts()\n",
    "rating_vals.sort_index(inplace=True)\n",
    "rating_vals"
   ]
  },
  {
   "cell_type": "code",
   "execution_count": 96,
   "id": "9ded7853",
   "metadata": {},
   "outputs": [
    {
     "data": {
      "text/plain": [
       "1    22.551020\n",
       "2    19.795918\n",
       "3    20.204082\n",
       "4    17.959184\n",
       "5    19.489796\n",
       "Name: Rating, dtype: float64"
      ]
     },
     "execution_count": 96,
     "metadata": {},
     "output_type": "execute_result"
    }
   ],
   "source": [
    "rating_vals=(rating_vals/980)*100\n",
    "rating_vals"
   ]
  },
  {
   "cell_type": "code",
   "execution_count": 94,
   "id": "378723d6",
   "metadata": {},
   "outputs": [
    {
     "data": {
      "text/plain": [
       "array([1, 2, 3, 4, 5], dtype=int64)"
      ]
     },
     "execution_count": 94,
     "metadata": {},
     "output_type": "execute_result"
    }
   ],
   "source": [
    "distinct_rating_label=df['Rating'].unique()\n",
    "distinct_rating_label.sort()\n",
    "distinct_rating_label"
   ]
  },
  {
   "cell_type": "code",
   "execution_count": 98,
   "id": "25386880",
   "metadata": {},
   "outputs": [
    {
     "data": {
      "image/png": "[encoded data removed]",
      "text/plain": [
       "<Figure size 432x288 with 1 Axes>"
      ]
     },
     "metadata": {},
     "output_type": "display_data"
    }
   ],
   "source": [
    "plt.pie(rating_vals,labels=distinct_rating_label,autopct='%.0f%%');"
   ]
  },
  {
   "cell_type": "markdown",
   "id": "34eae69f",
   "metadata": {},
   "source": [
    "### Seaborn Visualization"
   ]
  },
  {
   "cell_type": "code",
   "execution_count": 60,
   "id": "78178c41",
   "metadata": {},
   "outputs": [
    {
     "data": {
      "text/plain": [
       "<seaborn.axisgrid.PairGrid at 0x20a0a79d220>"
      ]
     },
     "execution_count": 60,
     "metadata": {},
     "output_type": "execute_result"
    },
    {
     "data": {
      "image/png": "[encoded data removed]",
      "text/plain": [
       "<Figure size 360x360 with 6 Axes>"
      ]
     },
     "metadata": {
      "needs_background": "light"
     },
     "output_type": "display_data"
    }
   ],
   "source": [
    "import seaborn as sns\n",
    "sns.pairplot(df)"
   ]
  },
  {
   "cell_type": "code",
   "execution_count": 71,
   "id": "7cee9d41",
   "metadata": {},
   "outputs": [
    {
     "data": {
      "text/plain": [
       "<AxesSubplot:xlabel='Rating', ylabel='Count'>"
      ]
     },
     "execution_count": 71,
     "metadata": {},
     "output_type": "execute_result"
    },
    {
     "data": {
      "image/png": "[encoded data removed]",
      "text/plain": [
       "<Figure size 432x288 with 1 Axes>"
      ]
     },
     "metadata": {
      "needs_background": "light"
     },
     "output_type": "display_data"
    }
   ],
   "source": [
    "sns.histplot(df['Rating'])"
   ]
  },
  {
   "cell_type": "code",
   "execution_count": null,
   "id": "268f1c74",
   "metadata": {},
   "outputs": [],
   "source": []
  }
 ],
 "metadata": {
  "kernelspec": {
   "display_name": "Python 3 (ipykernel)",
   "language": "python",
   "name": "python3"
  },
  "language_info": {
   "codemirror_mode": {
    "name": "ipython",
    "version": 3
   },
   "file_extension": ".py",
   "mimetype": "text/x-python",
   "name": "python",
   "nbconvert_exporter": "python",
   "pygments_lexer": "ipython3",
   "version": "3.9.7"
  }
 },
 "nbformat": 4,
 "nbformat_minor": 5
}
